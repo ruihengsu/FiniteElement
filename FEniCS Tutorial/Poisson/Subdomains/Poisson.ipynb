{
 "metadata": {
  "language_info": {
   "codemirror_mode": {
    "name": "ipython",
    "version": 3
   },
   "file_extension": ".py",
   "mimetype": "text/x-python",
   "name": "python",
   "nbconvert_exporter": "python",
   "pygments_lexer": "ipython3",
   "version": "3.8.5-final"
  },
  "orig_nbformat": 2,
  "kernelspec": {
   "name": "python38564bitd3c42203a7de49d199e1858807aafdf7",
   "display_name": "Python 3.8.5 64-bit",
   "language": "python"
  }
 },
 "nbformat": 4,
 "nbformat_minor": 2,
 "cells": [
  {
   "source": [
    "Consider\n",
    "$$\n",
    "-\\nabla \\cdot \\left(\\kappa(x,y) \\nabla u (x,y) \\right) = f\n",
    "$$\n",
    "defined over a unit square, $\\Omega$. This equation might describe heat conduction. Where $\\kappa(x,y) \\geq 0$ is a variable heat conductivity. \n",
    "\n",
    "Let's partition $\\Omega$ into two subdomains, $\\Omega_{0} = [0,1] \\times [0,1/2]$ and $\\Omega_{1} = [0,1] \\times (1/2, 1]$.\n",
    "\n",
    "For our purposes, we consider $\\kappa(\\Omega_{0}) = \\kappa_{0}$, and $\\kappa(\\Omega_{1}) = \\kappa_{1}$. These are constants.\n",
    "\n",
    "The infinite dimensional weak form is\n",
    "$$\n",
    "\\int_{\\Omega} \\kappa \\left(\\nabla u \\cdot \\nabla v\\right)\\,dx = \\int_{\\Omega} fv\\,dx\n",
    "$$"
   ],
   "cell_type": "markdown",
   "metadata": {}
  },
  {
   "cell_type": "code",
   "execution_count": 4,
   "metadata": {},
   "outputs": [],
   "source": [
    "from fenics import *\n",
    "from mshr import *"
   ]
  },
  {
   "source": [
    "The main challenge comes from defining $\\kappa$. We show several ways to do this.\n",
    "\n",
    "1. Subclassing ``Expression`` \n",
    "\n",
    "```python\n",
    "class K(Expression):\n",
    "\n",
    "    def set_k_values(self, k_0, k_1):\n",
    "        self.k_0 = k_0\n",
    "        self.k_1 = k_1\n",
    "        \n",
    "    def eval(self, value, x):\n",
    "        tol = 1E-14\n",
    "        # if y <= 0.5, so we are in Omega_0\n",
    "        if x[1] <= 0.5 + tol:\n",
    "            value[0] = self.k_0\n",
    "        else:\n",
    "            value[0] = self.k_1\n",
    "\n",
    "kappa = K()\n",
    "kappa.set_k_values(1, 0.01)\n",
    "```\n",
    "But **FEniCS will call ``eval`` for every node**. (Maybe we are overloading eval here?)\n",
    "\n",
    "2. Using a C++ string. This works for simple $\\kappa$\n",
    "```\n",
    "tol = 1E-14\n",
    "k_0 = 1.0\n",
    "k_1 = 0.01\n",
    "kappa = Expression(\"x[1] <= 0.5 + tol ? k_0 : k_1\", \n",
    "                    degree = 0, \n",
    "                    tol = tol, \n",
    "                    k_0 = k_0, \n",
    "                    k_1 = k_1)\n",
    "```\n",
    "\n",
    "More general techniques exist. We will get to them later."
   ],
   "cell_type": "markdown",
   "metadata": {}
  },
  {
   "source": [
    "The boundary function we have been defining is a shortcut for a more general concept called `Subdomain`.\n",
    "\n",
    "A `Subdomain` defines a region in space in terms of a special method, called `inside`. `inside` returns `True` for all points that belong to the subdomain, and false otherwise.\n",
    "\n",
    "For our case, we define two subdomains."
   ],
   "cell_type": "markdown",
   "metadata": {}
  },
  {
   "cell_type": "code",
   "execution_count": 5,
   "metadata": {},
   "outputs": [],
   "source": [
    "class Omega_0(SubDomain):\n",
    "    def inide(self, x, on_boundary):\n",
    "        return x[1] <= 0.5 + tol\n",
    "\n",
    "class Omega_1(SubDomain):\n",
    "    def inide(self, x, on_boundary):\n",
    "        return x[1] >= 0.5 - tol"
   ]
  }
 ]
}