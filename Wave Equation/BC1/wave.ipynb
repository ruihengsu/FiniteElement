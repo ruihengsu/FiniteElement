{
 "metadata": {
  "language_info": {
   "codemirror_mode": {
    "name": "ipython",
    "version": 3
   },
   "file_extension": ".py",
   "mimetype": "text/x-python",
   "name": "python",
   "nbconvert_exporter": "python",
   "pygments_lexer": "ipython3",
   "version": "3.8.5-final"
  },
  "orig_nbformat": 2,
  "kernelspec": {
   "name": "python38564bitd3c42203a7de49d199e1858807aafdf7",
   "display_name": "Python 3.8.5 64-bit",
   "language": "python"
  }
 },
 "nbformat": 4,
 "nbformat_minor": 2,
 "cells": [
  {
   "source": [
    "We have the wave equation:\n",
    "$$\n",
    "\\frac{\\partial^{2} u}{\\partial t^{2}} = c^{2}\\nabla^{2} u\n",
    "$$ \n",
    "defined over a domain $\\Omega$. Let the boundary, $\\partial \\Omega$, but the union of the Neumann ($\\Gamma_{N}$) and Dirichlet ($\\Gamma_{D}$) boundaries.\n",
    "\n",
    "Let boudnary conditions be:\n",
    "$$\n",
    "\\begin{cases}\n",
    "\\nabla u \\cdot n = 0 &\\text{on }\\Gamma_{N}\\\\\n",
    "u = \\cos(10\\pi t)/10\\pi &\\text{on }\\Gamma_{D}\n",
    "\\end{cases}\n",
    "$$\n",
    "\n",
    "The infinite dimension weak form is\n",
    "$$\n",
    "\\int_{\\Omega} w \\frac{\\partial^{2} u}{\\partial t^{2}} \\,dx = \\int_{\\Omega}c^{2} \\nabla u \\cdot \\nabla w\\,dx\n",
    "$$\n",
    "where $w$ is the weighting function in a suitable function space $V$.\n",
    "\n",
    "We can turn this problem into a first order problem first. Let\n",
    "$$\n",
    "v = -\\frac{\\partial u}{\\partial t}\n",
    "$$\n",
    "then,\n",
    "$$\n",
    "\\begin{align}\n",
    "&\\frac{\\partial u}{\\partial t} = -v\\\\\n",
    "&\\frac{\\partial v}{\\partial t} + \\nabla^{2} u = 0\\\\\n",
    "&p = \\sin(10\\pi t) &&\\text{on }\\Gamma_{D}\n",
    "\\end{align}\n",
    "$$\n",
    "The weak form is\n",
    "$$\n",
    "\\int_{\\Omega} w \\frac{\\partial v}{\\partial t} \\,dx = \\int_{\\Omega} c^{2} \\nabla u \\cdot \\nabla w\\,dx\n",
    "$$\n",
    "\n",
    "$\\Gamma_{D}$ is edge of the source. \n",
    "\n",
    "$\\Gamma_{N}$ is everywhere else."
   ],
   "cell_type": "markdown",
   "metadata": {}
  },
  {
   "cell_type": "code",
   "execution_count": null,
   "metadata": {},
   "outputs": [],
   "source": [
    "from dolfin import *\n",
    "from mshr import *"
   ]
  },
  {
   "cell_type": "code",
   "execution_count": null,
   "metadata": {},
   "outputs": [],
   "source": [
    "plane_w = 2.0/3\n",
    "plane_h = 8.0/3\n",
    "\n",
    "wall_w = 0.005/3\n",
    "wall_h = 0.05/3\n",
    "slit_h = 0.5/3\n",
    "\n",
    "plane = Rectangle(Point(plane_w*4, plane_h), Point(-plane_w, -plane_h))\n",
    "wall1 = Rectangle(Point(wall_w, slit_h), Point(-wall_w, -slit_h))\n",
    "wall2 = Rectangle(Point(wall_w, plane_h), Point(-wall_w, slit_h+wall_h))\n",
    "wall3 = Rectangle(Point(wall_w, -plane_h), Point(-wall_w, -slit_h-wall_h))\n",
    "wall4 = Rectangle(Point(-plane_w, plane_h), Point(-wall_w, slit_h*2))\n",
    "wall5 = Rectangle(Point(-plane_w, -plane_h), Point(-wall_w, -slit_h*2))\n",
    "\n",
    "domain = plane - wall1 - wall2 - wall3 - wall4 - wall5\n",
    "mesh=generate_mesh(domain, 128)"
   ]
  },
  {
   "cell_type": "code",
   "execution_count": null,
   "metadata": {},
   "outputs": [],
   "source": [
    "V = FunctionSpace(mesh, \"CG\", 2)\n",
    "\n",
    "p = Function(V, name=\"p\")\n",
    "phi = Function(V, name=\"phi\")\n",
    "\n",
    "u = TrialFunction(V)\n",
    "v = TestFunction(V)\n",
    "\n",
    "# write the initial conditions:\n",
    "vtkFile = File(\"solution/wave.pvd\")\n",
    "# this is zero everywhere\n",
    "vtkFile << phi"
   ]
  },
  {
   "cell_type": "code",
   "execution_count": null,
   "metadata": {},
   "outputs": [],
   "source": [
    "def source_boundary(x, on_boundary): \n",
    "    return on_boundary and near(x[0], -plane_w, DOLFIN_EPS)\n",
    "\n",
    "bcval = Constant(0.0)\n",
    "bc = DirichletBC(V, bcval, source_boundary)"
   ]
  },
  {
   "cell_type": "code",
   "execution_count": null,
   "metadata": {
    "tags": []
   },
   "outputs": [],
   "source": [
    "t = 0\n",
    "dt = 0.001\n",
    "T = 10.0\n",
    "step = 0\n",
    "while t <= T:\n",
    "    step += 1\n",
    "    bcval.assign(sin(10*pi*t))\n",
    "\n",
    "    phi.assign(phi - dt / 2.0 * p)\n",
    "    solve(u*v*dx == v*p*dx + dt*inner(grad(v), grad(phi))*dx,\n",
    "          p,\n",
    "          bc)\n",
    "    phi.assign(phi - dt / 2.0 * p)\n",
    "\n",
    "    t += dt\n",
    "    if step % 10 == 0:\n",
    "        vtkFile << (phi, t)"
   ]
  },
  {
   "source": [],
   "cell_type": "markdown",
   "metadata": {}
  }
 ]
}