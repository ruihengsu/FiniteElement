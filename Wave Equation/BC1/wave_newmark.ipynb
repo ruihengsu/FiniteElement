{
 "metadata": {
  "language_info": {
   "codemirror_mode": {
    "name": "ipython",
    "version": 3
   },
   "file_extension": ".py",
   "mimetype": "text/x-python",
   "name": "python",
   "nbconvert_exporter": "python",
   "pygments_lexer": "ipython3",
   "version": "3.8.5-final"
  },
  "orig_nbformat": 2,
  "kernelspec": {
   "name": "python38564bitd3c42203a7de49d199e1858807aafdf7",
   "display_name": "Python 3.8.5 64-bit",
   "language": "python"
  }
 },
 "nbformat": 4,
 "nbformat_minor": 2,
 "cells": [
  {
   "source": [
    "We have the wave equation:\n",
    "$$\n",
    "\\frac{\\partial^{2} u}{\\partial t^{2}} = c^{2}\\nabla^{2} u\n",
    "$$ \n",
    "defined over a domain $\\Omega$. Let the boundary, $\\partial \\Omega$, but the union of the Neumann ($\\Gamma_{N}$) and Dirichlet ($\\Gamma_{D}$) boundaries.\n",
    "\n",
    "Let boudnary conditions be:\n",
    "$$\n",
    "\\begin{cases}\n",
    "\\nabla u \\cdot n = 0 &\\text{on }\\Gamma_{N}\\\\\n",
    "u = \\cos(10\\pi t)/10\\pi &\\text{on }\\Gamma_{D}\n",
    "\\end{cases}\n",
    "$$\n",
    "\n",
    "The infinite dimension weak form is\n",
    "$$\n",
    "\\int_{\\Omega} w \\frac{\\partial^{2} u}{\\partial t^{2}} \\,dx = \\int_{\\Omega}c^{2} \\nabla u \\cdot \\nabla w\\,dx\n",
    "$$\n",
    "where $w$ is the weighting function in a suitable function space $V$.\n",
    "\n",
    "We can turn this problem into a first order problem first. Let\n",
    "$$\n",
    "v = -\\frac{\\partial u}{\\partial t}\n",
    "$$\n",
    "then,\n",
    "$$\n",
    "\\begin{align}\n",
    "&\\frac{\\partial u}{\\partial t} = -v\\\\\n",
    "&\\frac{\\partial v}{\\partial t} + \\nabla^{2} u = 0\\\\\n",
    "&p = \\sin(10\\pi t) &&\\text{on }\\Gamma_{D}\n",
    "\\end{align}\n",
    "$$\n",
    "The weak form is\n",
    "$$\n",
    "\\int_{\\Omega} w \\frac{\\partial v}{\\partial t} \\,dx = \\int_{\\Omega} c^{2} \\nabla u \\cdot \\nabla w\\,dx\n",
    "$$"
   ],
   "cell_type": "markdown",
   "metadata": {}
  },
  {
   "cell_type": "code",
   "execution_count": 93,
   "metadata": {},
   "outputs": [],
   "source": [
    "from dolfin import *\n",
    "from mshr import *"
   ]
  },
  {
   "cell_type": "code",
   "execution_count": 98,
   "metadata": {},
   "outputs": [],
   "source": [
    "\"\"\"\n",
    "Here we define the mesh\n",
    "\"\"\"\n",
    "plane_w = 2.0/3\n",
    "plane_h = 8.0/3\n",
    "\n",
    "wall_w = 0.001/3\n",
    "wall_h = 0.05/3\n",
    "slit_h = 0.5/3\n",
    "\n",
    "plane = Rectangle(Point(plane_w*4, plane_h), Point(-plane_w, -plane_h))\n",
    "wall1 = Rectangle(Point(wall_w, slit_h), Point(-wall_w, -slit_h))\n",
    "wall2 = Rectangle(Point(wall_w, plane_h), Point(-wall_w, slit_h+wall_h))\n",
    "wall3 = Rectangle(Point(wall_w, -plane_h), Point(-wall_w, -slit_h-wall_h))\n",
    "wall4 = Rectangle(Point(-plane_w, plane_h), Point(-wall_w, slit_h*2))\n",
    "wall5 = Rectangle(Point(-plane_w, -plane_h), Point(-wall_w, -slit_h*2))\n",
    "\n",
    "domain = plane - wall1 - wall2 - wall3 - wall4 - wall5\n",
    "mesh=generate_mesh(domain, 100)"
   ]
  },
  {
   "cell_type": "code",
   "execution_count": 99,
   "metadata": {},
   "outputs": [],
   "source": [
    "\"\"\"\n",
    "Define the weighting function and trial solution spaces\n",
    "\"\"\"\n",
    "order = 1 # order of basis functions\n",
    "\n",
    "V = FunctionSpace(mesh, \"CG\", order)\n",
    "a = TrialFunction(V)\n",
    "phi = TestFunction(V)\n",
    "\n",
    "intial_displacment = Constant(0.0)\n",
    "\n",
    "intial_velocity = Constant(0.0)\n",
    "\n",
    "\n",
    "u0 = interpolate(intial_displacment, V)\n",
    "v0 = interpolate(intial_velocity, V)"
   ]
  },
  {
   "cell_type": "code",
   "execution_count": 100,
   "metadata": {},
   "outputs": [],
   "source": [
    "def boundary(x, on_boundary):\n",
    "    return on_boundary and near(x[0], -plane_w, DOLFIN_EPS)\n",
    "\n",
    "# set the source to a constant for now\n",
    "source = Expression(\"cos(10.0*pi*t)/(10.0*pi)\", \n",
    "                    t = 0, \n",
    "                    degree = order)\n",
    "bc = DirichletBC(V, source, boundary)"
   ]
  },
  {
   "cell_type": "code",
   "execution_count": 101,
   "metadata": {},
   "outputs": [
    {
     "output_type": "stream",
     "name": "stdout",
     "text": [
      "          Calling FFC just-in-time (JIT) compiler, this may take some time.\n",
      "          Calling FFC just-in-time (JIT) compiler, this may take some time.\n"
     ]
    }
   ],
   "source": [
    "\"\"\"\n",
    "Define the parameters for the newmark family\n",
    "These correspond to the trapezoidal rule\n",
    "\"\"\"\n",
    "beta = 0.25\n",
    "gamma = 0.5\n",
    "\n",
    "t = 0\n",
    "dt = 0.002\n",
    "T = 10.0\n",
    "\n",
    "def K_mat(function):\n",
    "    return dot(grad(function), grad(phi))*dx\n",
    "\n",
    "# assemble the variational problem\n",
    "M = a*phi*dx # the mass matrix term, comes from the second derivative\n",
    "K = K_mat(u0)\n",
    "# F = interpolate(Constant(0.0), V)*dx # no forcing in the wave equation\n",
    "\n",
    "a0 = Function(V)\n",
    "solve(M == -K, a0, bc) # this gives us a0 to start our algorithm\n",
    "\n",
    "# vtkFile_a = File(\"results/p{}_acc.pvd\".format(order))\n",
    "# vtkFile_a << a0\n",
    "\n",
    "vtkFile_u = File(\"results/p{}_displacement.pvd\".format(order))\n",
    "vtkFile_u << u0\n",
    "\n",
    "# general lefthand using Newmark family, for linear hyperbolic equations\n",
    "A = assemble(M + dt*dt*beta*K_mat(a))\n",
    "L = -(K_mat(u0) + dt*K_mat(v0) + dt*dt*(1-2*beta)*K_mat(a0))"
   ]
  },
  {
   "cell_type": "code",
   "execution_count": 102,
   "metadata": {
    "tags": []
   },
   "outputs": [
    {
     "output_type": "stream",
     "name": "stdout",
     "text": [
      "          Calling FFC just-in-time (JIT) compiler, this may take some time.\n"
     ]
    }
   ],
   "source": [
    "a1 = Function(V) # acceleration at t_(n+1)\n",
    "\n",
    "step = 0\n",
    "while t <= T:\n",
    "    # update time and step\n",
    "    t += dt\n",
    "    step += 1\n",
    "    source.t = t\n",
    "    \n",
    "    b = assemble(L)\n",
    "    bc.apply(A,b)\n",
    "\n",
    "    solve(A, a1.vector(), b) # solves for a_1\n",
    "    \n",
    "    u1 = u0 + dt*v0 + dt*dt*(1-2*beta)*a0 + dt*dt*beta*a1\n",
    "    v1 = v0 + dt*(1-gamma)*a0 + dt*gamma*a1\n",
    "    \n",
    "    u0.assign(u1)\n",
    "    v0.assign(v1)\n",
    "    a0.assign(a1)\n",
    "\n",
    "    if step % 10 == 0:\n",
    "        vtkFile_u << (u0, t)"
   ]
  },
  {
   "source": [],
   "cell_type": "markdown",
   "metadata": {}
  },
  {
   "cell_type": "code",
   "execution_count": null,
   "metadata": {},
   "outputs": [],
   "source": []
  }
 ]
}