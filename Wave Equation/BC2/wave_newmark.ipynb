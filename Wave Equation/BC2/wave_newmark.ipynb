{
 "metadata": {
  "language_info": {
   "codemirror_mode": {
    "name": "ipython",
    "version": 3
   },
   "file_extension": ".py",
   "mimetype": "text/x-python",
   "name": "python",
   "nbconvert_exporter": "python",
   "pygments_lexer": "ipython3",
   "version": "3.8.5-final"
  },
  "orig_nbformat": 2,
  "kernelspec": {
   "name": "python38564bitd3c42203a7de49d199e1858807aafdf7",
   "display_name": "Python 3.8.5 64-bit",
   "language": "python"
  }
 },
 "nbformat": 4,
 "nbformat_minor": 2,
 "cells": [
  {
   "cell_type": "code",
   "execution_count": 8,
   "metadata": {},
   "outputs": [],
   "source": [
    "from dolfin import *\n",
    "from mshr import *"
   ]
  },
  {
   "cell_type": "code",
   "execution_count": 9,
   "metadata": {},
   "outputs": [],
   "source": [
    "beta = 0.25\n",
    "gamma = 0.5\n",
    "\n",
    "t = 0.0\n",
    "dt = 0.001\n",
    "T = 10.0\n",
    "\n",
    "\n",
    "mesh = RectangleMesh(Point(-1,-1), Point(1,1), 64, 64)\n",
    "\n",
    "order = 2 # order of basis functions\n",
    "V = FunctionSpace(mesh, \"CG\", order)"
   ]
  },
  {
   "cell_type": "code",
   "execution_count": 10,
   "metadata": {},
   "outputs": [],
   "source": [
    "initial_displacment = Constant(0.0)\n",
    "\n",
    "initial_velocity = Expression(\"(x[0] + 1 <= tol && x[1] > -1.0/3.0 && x[1] < 1.0/3.0) ? 4*pi*cos(4*pi*t) : 0\", \n",
    "                     t = 0, \n",
    "                     tol = DOLFIN_EPS, \n",
    "                     degree = order)\n",
    "\n",
    "# initial_velocity = Constant(0.0)\n",
    "\n",
    "u0 = interpolate(initial_displacment, V)\n",
    "v0 = interpolate(initial_velocity, V)\n",
    "\n",
    "u = TrialFunction(V) \n",
    "v = TestFunction(V)  \n",
    "u_new = Function(V)                   # displacement (solution)\n",
    "v_new = Function(V)                   # velocity\n",
    "a_new = Function(V)                   # acceleration"
   ]
  },
  {
   "cell_type": "code",
   "execution_count": 11,
   "metadata": {},
   "outputs": [],
   "source": [
    "def boundary1(x, on_boundary):\n",
    "    cond1 = on_boundary and near(x[0], -1)\n",
    "    cond2 = x[1] >= -1.0/3.0 and x[1] <= 1.0/3.0\n",
    "    return cond1 and cond2\n",
    "\n",
    "def boundary2(x, on_boundary):\n",
    "    cond1 = on_boundary\n",
    "    cond2 = not (x[1] >= -1.0/3.0 and x[1] <= 1.0/3.0 and near(x[0], -1))\n",
    "    return cond1 and cond2\n",
    "\n",
    "u_D1 = Constant(0.0)\n",
    "u_D2 = Constant(0.0)\n",
    "\n",
    "bc1 = DirichletBC(V, u_D1, boundary1)\n",
    "bc2 = DirichletBC(V, u_D2, boundary2)\n",
    "bc = [bc1, bc2]\n",
    "\n",
    "# neumann = Expression(\"(x[0] + 1 <= tol && x[1] > -1.0/3.0 && x[1] < 1.0/3.0) ? 4*pi*cos(4*pi*t) : 0\", \n",
    "#                      t = 0, \n",
    "#                      tol = DOLFIN_EPS, \n",
    "#                      degree = order)"
   ]
  },
  {
   "cell_type": "code",
   "execution_count": 12,
   "metadata": {},
   "outputs": [],
   "source": [
    "\n",
    "k = inner(grad(u),grad(v))*dx # stiffness matrix integrand\n",
    "m = u*v*dx # mass matrix integrand\n",
    "# f = v*neumann*ds # neumann boundary condition \n",
    "\n",
    "K = assemble(k) # assemble stiffness matrix\n",
    "M = assemble(m) # assemble mass matrix\n",
    "# F = assemble(f)\n",
    "\n",
    "a0 = Function(V)\n",
    "solve(m == -k*u0, a0, bc) # this gives us a0 to start our algorithm\n",
    "\n",
    "vtkFile_a = File(\"results/p{}_acc.pvd\".format(order))\n",
    "vtkFile_a << a0\n",
    "\n",
    "vtkFile_u = File(\"results/p{}_displacement.pvd\".format(order))\n",
    "vtkFile_v = File(\"results/p{}_vel.pvd\".format(order))\n",
    "\n",
    "plot(a0)"
   ]
  },
  {
   "cell_type": "code",
   "execution_count": 36,
   "metadata": {
    "tags": []
   },
   "outputs": [
    {
     "output_type": "error",
     "ename": "KeyboardInterrupt",
     "evalue": "",
     "traceback": [
      "\u001b[0;31m---------------------------------------------------------------------------\u001b[0m",
      "\u001b[0;31mKeyboardInterrupt\u001b[0m                         Traceback (most recent call last)",
      "\u001b[0;32m<ipython-input-36-535fd22b66cc>\u001b[0m in \u001b[0;36m<module>\u001b[0;34m\u001b[0m\n\u001b[1;32m     15\u001b[0m         \u001b[0mboundary_condition\u001b[0m\u001b[0;34m.\u001b[0m\u001b[0mapply\u001b[0m\u001b[0;34m(\u001b[0m\u001b[0mA\u001b[0m\u001b[0;34m,\u001b[0m\u001b[0mb\u001b[0m\u001b[0;34m)\u001b[0m\u001b[0;34m\u001b[0m\u001b[0;34m\u001b[0m\u001b[0m\n\u001b[1;32m     16\u001b[0m \u001b[0;34m\u001b[0m\u001b[0m\n\u001b[0;32m---> 17\u001b[0;31m     \u001b[0msolve\u001b[0m\u001b[0;34m(\u001b[0m\u001b[0mA\u001b[0m\u001b[0;34m,\u001b[0m \u001b[0ma_new\u001b[0m\u001b[0;34m.\u001b[0m\u001b[0mvector\u001b[0m\u001b[0;34m(\u001b[0m\u001b[0;34m)\u001b[0m\u001b[0;34m,\u001b[0m \u001b[0mb\u001b[0m\u001b[0;34m)\u001b[0m\u001b[0;34m\u001b[0m\u001b[0;34m\u001b[0m\u001b[0m\n\u001b[0m\u001b[1;32m     18\u001b[0m \u001b[0;34m\u001b[0m\u001b[0m\n\u001b[1;32m     19\u001b[0m     \u001b[0mu_new\u001b[0m\u001b[0;34m.\u001b[0m\u001b[0mvector\u001b[0m\u001b[0;34m(\u001b[0m\u001b[0;34m)\u001b[0m\u001b[0;34m[\u001b[0m\u001b[0;34m:\u001b[0m\u001b[0;34m]\u001b[0m \u001b[0;34m=\u001b[0m \u001b[0mu_p\u001b[0m \u001b[0;34m+\u001b[0m \u001b[0mpow\u001b[0m\u001b[0;34m(\u001b[0m\u001b[0mdt\u001b[0m\u001b[0;34m,\u001b[0m \u001b[0;36m2\u001b[0m\u001b[0;34m)\u001b[0m\u001b[0;34m*\u001b[0m\u001b[0mbeta\u001b[0m\u001b[0;34m*\u001b[0m\u001b[0ma_new\u001b[0m\u001b[0;34m.\u001b[0m\u001b[0mvector\u001b[0m\u001b[0;34m(\u001b[0m\u001b[0;34m)\u001b[0m\u001b[0;34m\u001b[0m\u001b[0;34m\u001b[0m\u001b[0m\n",
      "\u001b[0;32m/usr/lib/petsc/lib/python3/dist-packages/dolfin/fem/solving.py\u001b[0m in \u001b[0;36msolve\u001b[0;34m(*args, **kwargs)\u001b[0m\n\u001b[1;32m    238\u001b[0m             \u001b[0;32mraise\u001b[0m \u001b[0mRuntimeError\u001b[0m\u001b[0;34m(\u001b[0m\u001b[0;34m\"Not expecting keyword arguments when solving linear algebra problem.\"\u001b[0m\u001b[0;34m)\u001b[0m\u001b[0;34m\u001b[0m\u001b[0;34m\u001b[0m\u001b[0m\n\u001b[1;32m    239\u001b[0m \u001b[0;34m\u001b[0m\u001b[0m\n\u001b[0;32m--> 240\u001b[0;31m         \u001b[0;32mreturn\u001b[0m \u001b[0mdolfin\u001b[0m\u001b[0;34m.\u001b[0m\u001b[0mla\u001b[0m\u001b[0;34m.\u001b[0m\u001b[0msolver\u001b[0m\u001b[0;34m.\u001b[0m\u001b[0msolve\u001b[0m\u001b[0;34m(\u001b[0m\u001b[0;34m*\u001b[0m\u001b[0margs\u001b[0m\u001b[0;34m)\u001b[0m\u001b[0;34m\u001b[0m\u001b[0;34m\u001b[0m\u001b[0m\n\u001b[0m\u001b[1;32m    241\u001b[0m \u001b[0;34m\u001b[0m\u001b[0m\n\u001b[1;32m    242\u001b[0m \u001b[0;34m\u001b[0m\u001b[0m\n",
      "\u001b[0;32m/usr/lib/petsc/lib/python3/dist-packages/dolfin/la/solver.py\u001b[0m in \u001b[0;36msolve\u001b[0;34m(A, x, b, method, preconditioner)\u001b[0m\n\u001b[1;32m     70\u001b[0m     \"\"\"\n\u001b[1;32m     71\u001b[0m \u001b[0;34m\u001b[0m\u001b[0m\n\u001b[0;32m---> 72\u001b[0;31m     \u001b[0;32mreturn\u001b[0m \u001b[0mcpp\u001b[0m\u001b[0;34m.\u001b[0m\u001b[0mla\u001b[0m\u001b[0;34m.\u001b[0m\u001b[0msolve\u001b[0m\u001b[0;34m(\u001b[0m\u001b[0mA\u001b[0m\u001b[0;34m,\u001b[0m \u001b[0mx\u001b[0m\u001b[0;34m,\u001b[0m \u001b[0mb\u001b[0m\u001b[0;34m,\u001b[0m \u001b[0mmethod\u001b[0m\u001b[0;34m,\u001b[0m \u001b[0mpreconditioner\u001b[0m\u001b[0;34m)\u001b[0m\u001b[0;34m\u001b[0m\u001b[0;34m\u001b[0m\u001b[0m\n\u001b[0m",
      "\u001b[0;31mKeyboardInterrupt\u001b[0m: "
     ]
    }
   ],
   "source": [
    "step = 0\n",
    "while t <= T:\n",
    "    \n",
    "    if step % 10 == 0:\n",
    "        vtkFile_u << (u0, t)\n",
    "        vtkFile_v << (v0, t)\n",
    "\n",
    "    # predictor\n",
    "    u_p = u0.vector() + dt*v0.vector() + pow(dt, 2)*(0.5 - beta)*a0.vector()\n",
    "    v_p = v0.vector() + dt*(1-gamma)*a0.vector()\n",
    "\n",
    "    b = F-1*K*u_p\n",
    "    A = M + pow(dt, 2)*beta*K\n",
    "    \n",
    "    for boundary_condition in bc:\n",
    "        boundary_condition.apply(A,b)\n",
    "\n",
    "    solve(A, a_new.vector(), b)\n",
    "    \n",
    "    u_new.vector()[:] = u_p + pow(dt, 2)*beta*a_new.vector()\n",
    "    v_new.vector()[:] = v_p + dt*gamma*a_new.vector()\n",
    "\n",
    "    u0.assign(u_new)\n",
    "    v0.assign(v_new)\n",
    "    a0.assign(a_new)\n",
    "    \n",
    "    t += dt\n",
    "    # neumann.t = t\n",
    "\n",
    "    if t <= 0.5:\n",
    "        u_D1.assign(sin(4*pi*t))\n",
    "    else:\n",
    "        u_D1.assign(0)\n",
    "    step += 1\n"
   ]
  },
  {
   "cell_type": "code",
   "execution_count": null,
   "metadata": {},
   "outputs": [],
   "source": []
  }
 ]
}