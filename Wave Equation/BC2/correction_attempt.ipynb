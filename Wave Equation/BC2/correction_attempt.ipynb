{
 "metadata": {
  "language_info": {
   "codemirror_mode": {
    "name": "ipython",
    "version": 3
   },
   "file_extension": ".py",
   "mimetype": "text/x-python",
   "name": "python",
   "nbconvert_exporter": "python",
   "pygments_lexer": "ipython3",
   "version": "3.8.5-final"
  },
  "orig_nbformat": 2,
  "kernelspec": {
   "name": "python38564bitd3c42203a7de49d199e1858807aafdf7",
   "display_name": "Python 3.8.5 64-bit",
   "language": "python"
  }
 },
 "nbformat": 4,
 "nbformat_minor": 2,
 "cells": [
  {
   "cell_type": "code",
   "execution_count": 4,
   "metadata": {},
   "outputs": [],
   "source": [
    "from mshr import *\n",
    "import numpy as np\n",
    "from dolfin import *\n",
    "import matplotlib.pyplot as plt\n",
    "\n",
    "# Form compiler options\n",
    "parameters[\"form_compiler\"][\"cpp_optimize\"] = True\n",
    "parameters[\"form_compiler\"][\"optimize\"] = True"
   ]
  },
  {
   "cell_type": "code",
   "execution_count": 5,
   "metadata": {},
   "outputs": [],
   "source": [
    "mesh = RectangleMesh(Point(-1,-1), Point(1,1), 64, 64)\n",
    "\n",
    "def boundary1(x, on_boundary):\n",
    "    cond1 = on_boundary and near(x[0], -1)\n",
    "    cond2 = x[1] >= -1.0/3.0 and x[1] <= 1.0/3.0\n",
    "    return cond1 and cond2\n",
    "\n",
    "def boundary2(x, on_boundary):\n",
    "    cond1 = on_boundary\n",
    "    cond2 = not (x[1] >= -1.0/3.0 and x[1] <= 1.0/3.0 and near(x[0], -1))\n",
    "    return cond1 and cond2"
   ]
  },
  {
   "cell_type": "code",
   "execution_count": null,
   "metadata": {},
   "outputs": [],
   "source": [
    "alpha_m = Constant(0.2)\n",
    "alpha_f = Constant(0.4)\n",
    "gamma   = Constant(0.5+alpha_f-alpha_m)\n",
    "beta    = Constant((gamma+0.5)**2/4.)\n",
    "\n",
    "# Time-stepping parameters\n",
    "T       = 4.0\n",
    "Nsteps  = 50\n",
    "dt = Constant(T/Nsteps)"
   ]
  },
  {
   "cell_type": "code",
   "execution_count": 6,
   "metadata": {},
   "outputs": [],
   "source": [
    "\"\"\"\n",
    "Define the weighting function and trial solution spaces\n",
    "\"\"\"\n",
    "order = 1 # order of basis functions\n",
    "\n",
    "V = FunctionSpace(mesh, \"CG\", order)\n",
    "\n",
    "# Test and trial functions\n",
    "du = TrialFunction(V)\n",
    "u_ = TestFunction(V)\n",
    "\n",
    "# current, unknown displacement\n",
    "u = Function(V, name=\"Displacement\")\n",
    "# previous time step functions\n",
    "u_old = Function(V)\n",
    "v_old = Function(V)\n",
    "a_old = Function(V)"
   ]
  },
  {
   "cell_type": "code",
   "execution_count": 7,
   "metadata": {},
   "outputs": [],
   "source": [
    "\n",
    "# set the source to a constant for now\n",
    "u_D1 = Expression(\"sin(4*pi*t)\", degree = order, t = 0.0)\n",
    "u_D2 = Constant(0.0)\n",
    "\n",
    "bc1 = DirichletBC(V, u_D1, boundary1)\n",
    "bc2 = DirichletBC(V, u_D2, boundary2)\n",
    "bc = [bc1, bc2]"
   ]
  },
  {
   "cell_type": "code",
   "execution_count": null,
   "metadata": {},
   "outputs": [],
   "source": [
    "# Update formula for acceleration\n",
    "# a = 1/(2*beta)*((u - u0 - v0*dt)/(0.5*dt*dt) - (1-2*beta)*a0)\n",
    "def update_a(u, u_old, v_old, a_old, ufl=True):\n",
    "    if ufl:\n",
    "        dt_ = dt\n",
    "        beta_ = beta\n",
    "    else:\n",
    "        dt_ = float(dt)\n",
    "        beta_ = float(beta)\n",
    "    return (u-u_old-dt_*v_old)/beta_/dt_**2 - (1-2*beta_)/2/beta_*a_old\n",
    "\n",
    "# Update formula for velocity\n",
    "# v = dt * ((1-gamma)*a0 + gamma*a) + v0\n",
    "def update_v(a, u_old, v_old, a_old, ufl=True):\n",
    "    if ufl:\n",
    "        dt_ = dt\n",
    "        gamma_ = gamma\n",
    "    else:\n",
    "        dt_ = float(dt)\n",
    "        gamma_ = float(gamma)\n",
    "    return v_old + dt_*((1-gamma_)*a_old + gamma_*a)\n",
    "\n",
    "def update_fields(u, u_old, v_old, a_old):\n",
    "    \"\"\"Update fields at the end of each time step.\"\"\"\n",
    "\n",
    "    # Get vectors (references)\n",
    "    u_vec, u0_vec  = u.vector(), u_old.vector()\n",
    "    v0_vec, a0_vec = v_old.vector(), a_old.vector()\n",
    "\n",
    "    # use update functions using vector arguments\n",
    "    a_vec = update_a(u_vec, u0_vec, v0_vec, a0_vec, ufl=False)\n",
    "    v_vec = update_v(a_vec, u0_vec, v0_vec, a0_vec, ufl=False)\n",
    "\n",
    "    # Update (u_old <- u)\n",
    "    v_old.vector()[:], a_old.vector()[:] = v_vec, a_vec\n",
    "    u_old.vector()[:] = u.vector()"
   ]
  },
  {
   "cell_type": "code",
   "execution_count": 1,
   "metadata": {},
   "outputs": [],
   "source": [
    "# stiffness matrix\n",
    "def k(function):\n",
    "    return inner(grad(function), grad(du))*dx\n"
   ]
  },
  {
   "cell_type": "code",
   "execution_count": null,
   "metadata": {},
   "outputs": [],
   "source": [
    "a_new = update_a(du, u_old, v_old, a_old, ufl=True)\n",
    "v_new = update_v(a_new, u_old, v_old, a_old, ufl=True)\n",
    "res = m(avg(a_old, a_new, alpha_m), u_) + k(u_old), du, alpha_f), u_)\n",
    "a_form = lhs(res)\n",
    "L_form = rhs(res)"
   ]
  }
 ]
}